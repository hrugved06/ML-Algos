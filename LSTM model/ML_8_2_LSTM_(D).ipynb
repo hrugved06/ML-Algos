{
  "cells": [
    {
      "cell_type": "markdown",
      "metadata": {
        "id": "vEb08PBgQxMC"
      },
      "source": [
        "## **What is LSTMs ?**"
      ]
    },
    {
      "cell_type": "markdown",
      "metadata": {
        "id": "lXt7BB44QWBS"
      },
      "source": [
        "Long Short Term Memory networks, or \"LSTMs,\" are a type of RNN that can learn long-term dependencies. Hochreiter & Schmidhuber (1997) introduced them, and numerous individuals developed and popularised them in subsequent work. 1 They are currently frequently utilised and function exceptionally effectively on a wide range of situations.\n",
        "\n",
        "LSTMs are specifically developed to prevent the problem of long-term dependency. They don't have to work hard to remember knowledge for lengthy periods of time; it's like second nature to them!\n",
        "\n",
        "Recurrent neural networks all have the shape of a sequence of repeated neural network modules. In standard RNNs, this repeating module will have a very simple structure, such as a single tanh layer."
      ]
    },
    {
      "cell_type": "markdown",
      "metadata": {
        "id": "m6-aQCTmRuGB"
      },
      "source": [
        "![LSTM1](Assets/LSTM1.png)"
      ]
    },
    {
      "cell_type": "markdown",
      "metadata": {
        "id": "EinQ_iqLR0ZR"
      },
      "source": [
        "LSTMs also have this chain like structure, but the repeating module has a different structure. Instead of having a single neural network layer, there are four, interacting in a very special way."
      ]
    },
    {
      "cell_type": "markdown",
      "metadata": {
        "id": "j761rvjIR5Mr"
      },
      "source": [
        "![LSTM2](Assets/LSTM2.png) <br>"
      ]
    },
    {
      "cell_type": "markdown",
      "metadata": {
        "id": "54n2leeJSAwi"
      },
      "source": [
        "![LSTM3](Assets/LSTM3.png)"
      ]
    },
    {
      "cell_type": "markdown",
      "metadata": {
        "id": "z_9veJ77SFci"
      },
      "source": [
        "Each line in the figure above transmits a full vector from one node's output to the inputs of others. The pink circles denote pointwise operations, such as vector addition, and the yellow boxes denote learnt neural network layers. Concatenation occurs when lines merge, whereas forking occurs when a line's content is replicated and the copies are sent to various locations."
      ]
    },
    {
      "cell_type": "markdown",
      "metadata": {
        "id": "M1eR2ifLSXbr"
      },
      "source": [
        "### **The Core Idea Behind LSTMs**"
      ]
    },
    {
      "cell_type": "markdown",
      "metadata": {
        "id": "LlLSc9zSSZqI"
      },
      "source": [
        "The cell state, the horizontal line going through the top of the diagram, is the key to LSTMs.\n",
        "\n",
        "The state of the cell is similar to that of a conveyor belt. With only a few tiny linear interactions, it flows straight down the entire chain. It's incredibly easy for data to simply travel along it unaltered."
      ]
    },
    {
      "cell_type": "markdown",
      "metadata": {
        "id": "ZAPC1MdISvGC"
      },
      "source": [
        "![LSTM4](Assets/LSTM4.png)"
      ]
    },
    {
      "cell_type": "markdown",
      "metadata": {
        "id": "Kt30_C6eSyKb"
      },
      "source": [
        "The LSTM can delete or add information to the cell state, which is carefully controlled by structures called gates.\n",
        "\n",
        "Gates are a mechanism to selectively allow information to pass through. A sigmoid neural net layer plus a pointwise multiplication operation make them up."
      ]
    },
    {
      "cell_type": "markdown",
      "metadata": {
        "id": "L2sSERqkTCaT"
      },
      "source": [
        "![LSTM5](Assets/LSTM5.png)"
      ]
    },
    {
      "cell_type": "markdown",
      "metadata": {
        "id": "Bra-YZ7STFax"
      },
      "source": [
        "The sigmoid layer produces integers ranging from zero to one, indicating how much of each component should be allowed to pass. \"Allow nothing through!\" signifies a value of zero, while \"let everything through!\" means a value of one.\n",
        "\n",
        "Three of these gates are present in an LSTM to protect and govern the cell state."
      ]
    },
    {
      "cell_type": "markdown",
      "metadata": {
        "id": "C0nAIB3KHfes"
      },
      "source": [
        "So the LSTM cell contains the following components\n",
        "\n",
        "- Forget Gate “f” ( a neural network with sigmoid)\n",
        "- Candidate layer “C\"(a NN with Tanh)\n",
        "- Input Gate “I” ( a NN with sigmoid )\n",
        "- Output Gate “O”( a NN with sigmoid)\n",
        "- Hidden state “H” ( a vector )\n",
        "- Memory state “C” ( a vector)\n",
        "\n",
        "- Inputs to the LSTM cell at any step are Xt (current input) , Ht-1 (previous hidden state ) and Ct-1 (previous memory state).\n",
        "\n",
        "- Outputs from the LSTM cell are Ht (current hidden state ) and Ct (current memory state)"
      ]
    },
    {
      "cell_type": "markdown",
      "metadata": {
        "id": "NGPqZK1rT2Lr"
      },
      "source": [
        "## **Working of gates in LSTMs**"
      ]
    },
    {
      "cell_type": "markdown",
      "metadata": {
        "id": "xPiC8EW8Wvrc"
      },
      "source": [
        "First, LSTM cell takes the previous memory state C<sub>t-1</sub> and does element wise multiplication with forget gate (f) to decide if  present memory state C<sub>t</sub>. If forget gate value is 0 then previous memory state is completely forgotten else f forget gate value is 1 then previous memory state is completely passed to the cell ( Remember f gate gives values between 0 and 1 ).\n",
        "\n",
        "**C<sub>t</sub> = C<sub>t-1</sub> * f<sub>t</sub>**\n",
        "\n",
        "Calculating the new memory state: \n",
        "\n",
        "**C<sub>t</sub> = C<sub>t</sub> + (I<sub>t</sub> * C\\`<sub>t</sub>)**\n",
        "\n",
        "Now, we calculate the output:\n",
        "\n",
        "**H<sub>t</sub> = tanh(C<sub>t</sub>)**"
      ]
    },
    {
      "cell_type": "markdown",
      "metadata": {
        "id": "2vS4kbX9W4SV"
      },
      "source": [
        "## **Program**"
      ]
    },
    {
      "cell_type": "markdown",
      "metadata": {
        "id": "U6aba_guipj1"
      },
      "source": [
        "Let us try a **Time Series LSTM model** "
      ]
    },
    {
      "cell_type": "code",
      "execution_count": 1,
      "metadata": {
        "id": "7vrzjeN4-dDj"
      },
      "outputs": [],
      "source": [
        "# Importing the libraries\n",
        "import numpy as np\n",
        "import matplotlib.pyplot as plt\n",
        "plt.style.use('fivethirtyeight')\n",
        "import pandas as pd\n",
        "from sklearn.preprocessing import MinMaxScaler\n",
        "from keras.models import Sequential\n",
        "from keras.layers import Dense, LSTM, Dropout, Bidirectional\n",
        "import math\n",
        "from sklearn.metrics import mean_squared_error"
      ]
    },
    {
      "cell_type": "code",
      "execution_count": 2,
      "metadata": {
        "id": "ICCGdK4XH21f"
      },
      "outputs": [],
      "source": [
        "# Some functions to help out with\n",
        "def plot_predictions(test,predicted):\n",
        "    plt.plot(test, color='red',label='Real IBM Stock Price')\n",
        "    plt.plot(predicted, color='blue',label='Predicted IBM Stock Price')\n",
        "    plt.title('IBM Stock Price Prediction')\n",
        "    plt.xlabel('Time')\n",
        "    plt.ylabel('IBM Stock Price')\n",
        "    plt.legend()\n",
        "    plt.show()\n",
        "\n",
        "def return_rmse(test,predicted):\n",
        "    rmse = math.sqrt(mean_squared_error(test, predicted))\n",
        "    print(\"The root mean squared error is {}.\".format(rmse))"
      ]
    },
    {
      "cell_type": "code",
      "execution_count": 3,
      "metadata": {
        "colab": {
          "base_uri": "https://localhost:8080/",
          "height": 234
        },
        "id": "Sxo5q3ltH43o",
        "outputId": "e0bc772e-71d7-4f2c-905c-59a69b6192ed"
      },
      "outputs": [
        {
          "data": {
            "text/html": [
              "<div>\n",
              "<style scoped>\n",
              "    .dataframe tbody tr th:only-of-type {\n",
              "        vertical-align: middle;\n",
              "    }\n",
              "\n",
              "    .dataframe tbody tr th {\n",
              "        vertical-align: top;\n",
              "    }\n",
              "\n",
              "    .dataframe thead th {\n",
              "        text-align: right;\n",
              "    }\n",
              "</style>\n",
              "<table border=\"1\" class=\"dataframe\">\n",
              "  <thead>\n",
              "    <tr style=\"text-align: right;\">\n",
              "      <th></th>\n",
              "      <th>Open</th>\n",
              "      <th>High</th>\n",
              "      <th>Low</th>\n",
              "      <th>Close</th>\n",
              "      <th>Volume</th>\n",
              "      <th>Name</th>\n",
              "    </tr>\n",
              "    <tr>\n",
              "      <th>Date</th>\n",
              "      <th></th>\n",
              "      <th></th>\n",
              "      <th></th>\n",
              "      <th></th>\n",
              "      <th></th>\n",
              "      <th></th>\n",
              "    </tr>\n",
              "  </thead>\n",
              "  <tbody>\n",
              "    <tr>\n",
              "      <th>2006-01-03</th>\n",
              "      <td>82.45</td>\n",
              "      <td>82.55</td>\n",
              "      <td>80.81</td>\n",
              "      <td>82.06</td>\n",
              "      <td>11715200</td>\n",
              "      <td>IBM</td>\n",
              "    </tr>\n",
              "    <tr>\n",
              "      <th>2006-01-04</th>\n",
              "      <td>82.20</td>\n",
              "      <td>82.50</td>\n",
              "      <td>81.33</td>\n",
              "      <td>81.95</td>\n",
              "      <td>9840600</td>\n",
              "      <td>IBM</td>\n",
              "    </tr>\n",
              "    <tr>\n",
              "      <th>2006-01-05</th>\n",
              "      <td>81.40</td>\n",
              "      <td>82.90</td>\n",
              "      <td>81.00</td>\n",
              "      <td>82.50</td>\n",
              "      <td>7213500</td>\n",
              "      <td>IBM</td>\n",
              "    </tr>\n",
              "    <tr>\n",
              "      <th>2006-01-06</th>\n",
              "      <td>83.95</td>\n",
              "      <td>85.03</td>\n",
              "      <td>83.41</td>\n",
              "      <td>84.95</td>\n",
              "      <td>8197400</td>\n",
              "      <td>IBM</td>\n",
              "    </tr>\n",
              "    <tr>\n",
              "      <th>2006-01-09</th>\n",
              "      <td>84.10</td>\n",
              "      <td>84.25</td>\n",
              "      <td>83.38</td>\n",
              "      <td>83.73</td>\n",
              "      <td>6858200</td>\n",
              "      <td>IBM</td>\n",
              "    </tr>\n",
              "  </tbody>\n",
              "</table>\n",
              "</div>"
            ],
            "text/plain": [
              "             Open   High    Low  Close    Volume Name\n",
              "Date                                                 \n",
              "2006-01-03  82.45  82.55  80.81  82.06  11715200  IBM\n",
              "2006-01-04  82.20  82.50  81.33  81.95   9840600  IBM\n",
              "2006-01-05  81.40  82.90  81.00  82.50   7213500  IBM\n",
              "2006-01-06  83.95  85.03  83.41  84.95   8197400  IBM\n",
              "2006-01-09  84.10  84.25  83.38  83.73   6858200  IBM"
            ]
          },
          "execution_count": 3,
          "metadata": {},
          "output_type": "execute_result"
        }
      ],
      "source": [
        "dataset = pd.read_csv('IBM_2006-01-01_to_2018-01-01.csv', \n",
        "                      index_col='Date', parse_dates=['Date'])\n",
        "dataset.head()"
      ]
    },
    {
      "cell_type": "code",
      "execution_count": 4,
      "metadata": {
        "id": "pIyt56O0Iq2m"
      },
      "outputs": [],
      "source": [
        "# Checking for missing values\n",
        "training_set = dataset[:'2016'].iloc[:,1:2].values\n",
        "test_set = dataset['2017':].iloc[:,1:2].values"
      ]
    },
    {
      "cell_type": "code",
      "execution_count": 5,
      "metadata": {
        "colab": {
          "base_uri": "https://localhost:8080/",
          "height": 286
        },
        "id": "UA2Z9qAzIrku",
        "outputId": "608c4c26-0eb9-49ad-a3f5-b025e0a0e087"
      },
      "outputs": [
        {
          "data": {
            "image/png": "[encoded data removed]",
            "text/plain": [
              "<Figure size 1152x288 with 1 Axes>"
            ]
          },
          "metadata": {
            "needs_background": "light"
          },
          "output_type": "display_data"
        }
      ],
      "source": [
        "# We have chosen 'High' attribute for prices. Let's see what it looks like\n",
        "dataset[\"High\"][:'2016'].plot(figsize=(16,4),legend=True)\n",
        "dataset[\"High\"]['2017':].plot(figsize=(16,4),legend=True)\n",
        "plt.legend(['Training set (Before 2017)','Test set (2017 and beyond)'])\n",
        "plt.title('IBM stock price')\n",
        "plt.show()"
      ]
    },
    {
      "cell_type": "code",
      "execution_count": 6,
      "metadata": {
        "id": "-0XcGBpEIuof"
      },
      "outputs": [],
      "source": [
        "# Scaling the training set\n",
        "sc = MinMaxScaler(feature_range=(0,1))\n",
        "training_set_scaled = sc.fit_transform(training_set)"
      ]
    },
    {
      "cell_type": "code",
      "execution_count": 7,
      "metadata": {
        "id": "93dgicjVIvNv"
      },
      "outputs": [],
      "source": [
        "# Since LSTMs store long term memory state, we create a data structure with 60 timesteps and 1 output\n",
        "# So for each element of training set, we have 60 previous training set elements \n",
        "X_train = []\n",
        "y_train = []\n",
        "for i in range(60,2769):\n",
        "    X_train.append(training_set_scaled[i-60:i,0])\n",
        "    y_train.append(training_set_scaled[i,0])\n",
        "X_train, y_train = np.array(X_train), np.array(y_train)"
      ]
    },
    {
      "cell_type": "code",
      "execution_count": 8,
      "metadata": {
        "id": "wKpGmtE1IyGX"
      },
      "outputs": [],
      "source": [
        "# Reshaping X_train for efficient modelling\n",
        "X_train = np.reshape(X_train, (X_train.shape[0],X_train.shape[1],1))"
      ]
    },
    {
      "cell_type": "code",
      "execution_count": 9,
      "metadata": {
        "colab": {
          "base_uri": "https://localhost:8080/"
        },
        "id": "xHotBrOcIy53",
        "outputId": "ead76edd-2cfa-4b76-dd9b-09c3bac921ce"
      },
      "outputs": [
        {
          "name": "stdout",
          "output_type": "stream",
          "text": [
            "Epoch 1/50\n",
            "85/85 [==============================] - 19s 126ms/step - loss: 0.0208\n",
            "Epoch 2/50\n",
            "85/85 [==============================] - 11s 125ms/step - loss: 0.0096\n",
            "Epoch 3/50\n",
            "85/85 [==============================] - 11s 127ms/step - loss: 0.0080\n",
            "Epoch 4/50\n",
            "85/85 [==============================] - 11s 125ms/step - loss: 0.0067\n",
            "Epoch 5/50\n",
            "85/85 [==============================] - 11s 126ms/step - loss: 0.0058\n",
            "Epoch 6/50\n",
            "85/85 [==============================] - 11s 124ms/step - loss: 0.0051\n",
            "Epoch 7/50\n",
            "85/85 [==============================] - 11s 125ms/step - loss: 0.0049\n",
            "Epoch 8/50\n",
            "85/85 [==============================] - 11s 124ms/step - loss: 0.0046\n",
            "Epoch 9/50\n",
            "85/85 [==============================] - 11s 126ms/step - loss: 0.0041\n",
            "Epoch 10/50\n",
            "85/85 [==============================] - 11s 125ms/step - loss: 0.0037\n",
            "Epoch 11/50\n",
            "85/85 [==============================] - 10s 123ms/step - loss: 0.0038\n",
            "Epoch 12/50\n",
            "85/85 [==============================] - 11s 124ms/step - loss: 0.0035\n",
            "Epoch 13/50\n",
            "85/85 [==============================] - 10s 122ms/step - loss: 0.0032\n",
            "Epoch 14/50\n",
            "85/85 [==============================] - 11s 124ms/step - loss: 0.0032\n",
            "Epoch 15/50\n",
            "85/85 [==============================] - 11s 125ms/step - loss: 0.0031\n",
            "Epoch 16/50\n",
            "85/85 [==============================] - 11s 124ms/step - loss: 0.0028\n",
            "Epoch 17/50\n",
            "85/85 [==============================] - 11s 125ms/step - loss: 0.0028\n",
            "Epoch 18/50\n",
            "85/85 [==============================] - 11s 124ms/step - loss: 0.0027\n",
            "Epoch 19/50\n",
            "85/85 [==============================] - 11s 126ms/step - loss: 0.0025\n",
            "Epoch 20/50\n",
            "85/85 [==============================] - 11s 125ms/step - loss: 0.0026\n",
            "Epoch 21/50\n",
            "85/85 [==============================] - 11s 132ms/step - loss: 0.0024\n",
            "Epoch 22/50\n",
            "85/85 [==============================] - 11s 126ms/step - loss: 0.0024\n",
            "Epoch 23/50\n",
            "85/85 [==============================] - 11s 125ms/step - loss: 0.0024\n",
            "Epoch 24/50\n",
            "85/85 [==============================] - 11s 127ms/step - loss: 0.0022\n",
            "Epoch 25/50\n",
            "85/85 [==============================] - 10s 123ms/step - loss: 0.0023\n",
            "Epoch 26/50\n",
            "85/85 [==============================] - 10s 123ms/step - loss: 0.0022\n",
            "Epoch 27/50\n",
            "85/85 [==============================] - 11s 124ms/step - loss: 0.0021\n",
            "Epoch 28/50\n",
            "85/85 [==============================] - 11s 124ms/step - loss: 0.0021\n",
            "Epoch 29/50\n",
            "85/85 [==============================] - 11s 124ms/step - loss: 0.0019\n",
            "Epoch 30/50\n",
            "85/85 [==============================] - 11s 126ms/step - loss: 0.0019\n",
            "Epoch 31/50\n",
            "85/85 [==============================] - 11s 125ms/step - loss: 0.0020\n",
            "Epoch 32/50\n",
            "85/85 [==============================] - 11s 125ms/step - loss: 0.0020\n",
            "Epoch 33/50\n",
            "85/85 [==============================] - 11s 125ms/step - loss: 0.0018\n",
            "Epoch 34/50\n",
            "85/85 [==============================] - 11s 128ms/step - loss: 0.0018\n",
            "Epoch 35/50\n",
            "85/85 [==============================] - 11s 125ms/step - loss: 0.0018\n",
            "Epoch 36/50\n",
            "85/85 [==============================] - 11s 126ms/step - loss: 0.0017\n",
            "Epoch 37/50\n",
            "85/85 [==============================] - 11s 124ms/step - loss: 0.0017\n",
            "Epoch 38/50\n",
            "85/85 [==============================] - 11s 124ms/step - loss: 0.0017\n",
            "Epoch 39/50\n",
            "85/85 [==============================] - 11s 124ms/step - loss: 0.0017\n",
            "Epoch 40/50\n",
            "85/85 [==============================] - 11s 126ms/step - loss: 0.0016\n",
            "Epoch 41/50\n",
            "85/85 [==============================] - 11s 126ms/step - loss: 0.0016\n",
            "Epoch 42/50\n",
            "85/85 [==============================] - 11s 124ms/step - loss: 0.0016\n",
            "Epoch 43/50\n",
            "85/85 [==============================] - 11s 124ms/step - loss: 0.0017\n",
            "Epoch 44/50\n",
            "85/85 [==============================] - 11s 126ms/step - loss: 0.0016\n",
            "Epoch 45/50\n",
            "85/85 [==============================] - 11s 124ms/step - loss: 0.0015\n",
            "Epoch 46/50\n",
            "85/85 [==============================] - 11s 124ms/step - loss: 0.0015\n",
            "Epoch 47/50\n",
            "85/85 [==============================] - 10s 123ms/step - loss: 0.0015\n",
            "Epoch 48/50\n",
            "85/85 [==============================] - 11s 124ms/step - loss: 0.0015\n",
            "Epoch 49/50\n",
            "85/85 [==============================] - 13s 147ms/step - loss: 0.0014\n",
            "Epoch 50/50\n",
            "85/85 [==============================] - 11s 124ms/step - loss: 0.0015\n"
          ]
        },
        {
          "data": {
            "text/plain": [
              "<keras.callbacks.History at 0x7f95caa98e90>"
            ]
          },
          "execution_count": 9,
          "metadata": {},
          "output_type": "execute_result"
        }
      ],
      "source": [
        "# The LSTM architecture\n",
        "regressor = Sequential()\n",
        "# First LSTM layer with Dropout regularisation\n",
        "regressor.add(LSTM(units=50, return_sequences=True, input_shape=(X_train.shape[1],1)))\n",
        "regressor.add(Dropout(0.2))\n",
        "# Second LSTM layer\n",
        "regressor.add(LSTM(units=50, return_sequences=True))\n",
        "regressor.add(Dropout(0.2))\n",
        "# Third LSTM layer\n",
        "regressor.add(LSTM(units=50, return_sequences=True))\n",
        "regressor.add(Dropout(0.2))\n",
        "# Fourth LSTM layer\n",
        "regressor.add(LSTM(units=50))\n",
        "regressor.add(Dropout(0.2))\n",
        "# The output layer\n",
        "regressor.add(Dense(units=1))\n",
        "\n",
        "# Compiling the RNN\n",
        "regressor.compile(optimizer='rmsprop',loss='mean_squared_error')\n",
        "# Fitting to the training set\n",
        "regressor.fit(X_train,y_train,epochs=50,batch_size=32)"
      ]
    },
    {
      "cell_type": "code",
      "execution_count": 10,
      "metadata": {
        "id": "vjLk-zoTIzsl"
      },
      "outputs": [],
      "source": [
        "# Now to get the test set ready in a similar way as the training set.\n",
        "# The following has been done so forst 60 entires of test set have 60 previous values which is impossible to get unless we take the whole \n",
        "# 'High' attribute data for processing\n",
        "dataset_total = pd.concat((dataset[\"High\"][:'2016'],dataset[\"High\"]['2017':]),axis=0)\n",
        "inputs = dataset_total[len(dataset_total)-len(test_set) - 60:].values\n",
        "inputs = inputs.reshape(-1,1)\n",
        "inputs  = sc.transform(inputs)"
      ]
    },
    {
      "cell_type": "code",
      "execution_count": 11,
      "metadata": {
        "id": "6k-IKeogI4QQ"
      },
      "outputs": [],
      "source": [
        "# Preparing X_test and predicting the prices\n",
        "X_test = []\n",
        "for i in range(60,311):\n",
        "    X_test.append(inputs[i-60:i,0])\n",
        "X_test = np.array(X_test)\n",
        "X_test = np.reshape(X_test, (X_test.shape[0],X_test.shape[1],1))\n",
        "predicted_stock_price = regressor.predict(X_test)\n",
        "predicted_stock_price = sc.inverse_transform(predicted_stock_price)"
      ]
    },
    {
      "cell_type": "code",
      "execution_count": 12,
      "metadata": {
        "colab": {
          "base_uri": "https://localhost:8080/",
          "height": 296
        },
        "id": "5jfAq4P1I45P",
        "outputId": "df3711a7-440c-478e-f015-819b8760242d"
      },
      "outputs": [
        {
          "data": {
            "image/png": "[encoded data removed]",
            "text/plain": [
              "<Figure size 432x288 with 1 Axes>"
            ]
          },
          "metadata": {
            "needs_background": "light"
          },
          "output_type": "display_data"
        }
      ],
      "source": [
        "# Visualizing the results for LSTM\n",
        "plot_predictions(test_set,predicted_stock_price)"
      ]
    },
    {
      "cell_type": "code",
      "execution_count": 13,
      "metadata": {
        "colab": {
          "base_uri": "https://localhost:8080/"
        },
        "id": "-Pd4WcLVI7oX",
        "outputId": "642ba5e9-3592-400f-95b5-e12fa15e2098"
      },
      "outputs": [
        {
          "name": "stdout",
          "output_type": "stream",
          "text": [
            "The root mean squared error is 2.8444726356485104.\n"
          ]
        }
      ],
      "source": [
        "# Evaluating our model\n",
        "return_rmse(test_set,predicted_stock_price)"
      ]
    },
    {
      "cell_type": "markdown",
      "metadata": {
        "id": "vRlh5yLeiQZo"
      },
      "source": [
        "Truth be told. That's one awesome score."
      ]
    },
    {
      "cell_type": "markdown",
      "metadata": {
        "id": "kglBaY1ogMfx"
      },
      "source": [
        "## **Conclusion**"
      ]
    },
    {
      "cell_type": "markdown",
      "metadata": {
        "id": "6PYRr9pzgoOj"
      },
      "source": [
        "When you just look at the equations or the cell, LSTMs appear to be somewhat frightening. LSTMs are frequently utilised and quite effective. In most cases, when you hear that an RNN is being used in a specific application, it is most likely an LSTM. There is a lot of intriguing research going on with LSTMs, such as attention, Grid LSTMs, and so on."
      ]
    }
  ],
  "metadata": {
    "colab": {
      "collapsed_sections": [],
      "name": "Time series - LSTM model.ipynb",
      "provenance": []
    },
    "kernelspec": {
      "display_name": "Python 3",
      "name": "python3"
    },
    "language_info": {
      "name": "python"
    }
  },
  "nbformat": 4,
  "nbformat_minor": 0
}
