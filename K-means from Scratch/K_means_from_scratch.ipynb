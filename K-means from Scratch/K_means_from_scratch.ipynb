{
  "nbformat": 4,
  "nbformat_minor": 2,
  "metadata": {
    "colab": {
      "name": "K-means from scratch.ipynb",
      "provenance": []
    },
    "kernelspec": {
      "name": "python3",
      "display_name": "Python 3"
    },
    "language_info": {
      "name": "python"
    }
  },
  "cells": [
    {
      "cell_type": "markdown",
      "source": [
        "# Implementing K-Means from scratch"
      ],
      "metadata": {
        "id": "cfWRjQ09N-5q"
      }
    },
    {
      "cell_type": "markdown",
      "source": [
        "> __What is K-means Clustering?__\n",
        "\n",
        "  K Means Clustering is one of most often used Machine Learning techniques in data mining for cluster analysis. The goal of K-means clustering is to divide n observations into k clusters, with each observation belonging to the cluster with the closest mean, which serves as the cluster's pattern.\n",
        "\n",
        "  The K Means algorithm is an unsupervised learning technique, which means it does not require any training data and instead computes on the real dataset. This should be obvious given that the goal of K Means is to group comparable data points into clusters rather than to make predictions."
      ],
      "metadata": {
        "id": "vQdeGwDkS-GB"
      }
    },
    {
      "cell_type": "markdown",
      "source": [
        "> __How K-means work?__\r\n",
        "\r\n",
        "The K Means algorithm is iterative, meaning it calculates the cluster centroids over and over again, refining the values until they don't change much.\r\n",
        "\r\n",
        "The k-means algorithm is used to build clusters from a dataset of ‘n' points and an integer parameter ‘k' that specifies how many clusters to create (supplied by the programmer). The result is a set of ‘k' cluster centroids and a dataset labelling that assigns each data point to a distinct cluster.\r\n",
        "\r\n",
        "![kmeansmath](./Assets/kmeansmath.png)"
      ],
      "metadata": {
        "id": "ea6BfWfQTl9B"
      }
    },
    {
      "cell_type": "code",
      "execution_count": 5,
      "source": [
        "import pandas as pd\r\n",
        "import numpy as np"
      ],
      "outputs": [],
      "metadata": {
        "id": "OXctzLO-9z2E"
      }
    },
    {
      "cell_type": "markdown",
      "source": [
        "> __Dataset Used__ \n",
        "\n",
        "I used the IPL statistics dataset, which is gathered from various sources. The cricket players will be grouped together based on their batting and bowling performances. I'm utilising a normalised dataset, thus I'm not going to normalise it in my code.\n",
        "\n",
        "I'll use the python mathplotlib package to illustrate the method."
      ],
      "metadata": {
        "id": "xB0oo4yVUrC6"
      }
    },
    {
      "cell_type": "code",
      "execution_count": 6,
      "source": [
        "data = pd.read_csv('ipl.csv')\r\n",
        "data"
      ],
      "outputs": [
        {
          "output_type": "execute_result",
          "data": {
            "text/html": [
              "<div>\n",
              "<style scoped>\n",
              "    .dataframe tbody tr th:only-of-type {\n",
              "        vertical-align: middle;\n",
              "    }\n",
              "\n",
              "    .dataframe tbody tr th {\n",
              "        vertical-align: top;\n",
              "    }\n",
              "\n",
              "    .dataframe thead th {\n",
              "        text-align: right;\n",
              "    }\n",
              "</style>\n",
              "<table border=\"1\" class=\"dataframe\">\n",
              "  <thead>\n",
              "    <tr style=\"text-align: right;\">\n",
              "      <th></th>\n",
              "      <th>one</th>\n",
              "      <th>two</th>\n",
              "    </tr>\n",
              "  </thead>\n",
              "  <tbody>\n",
              "    <tr>\n",
              "      <th>0</th>\n",
              "      <td>0.227680</td>\n",
              "      <td>0.858204</td>\n",
              "    </tr>\n",
              "    <tr>\n",
              "      <th>1</th>\n",
              "      <td>0.979188</td>\n",
              "      <td>0.077151</td>\n",
              "    </tr>\n",
              "    <tr>\n",
              "      <th>2</th>\n",
              "      <td>0.504577</td>\n",
              "      <td>0.553114</td>\n",
              "    </tr>\n",
              "    <tr>\n",
              "      <th>3</th>\n",
              "      <td>0.058132</td>\n",
              "      <td>0.528098</td>\n",
              "    </tr>\n",
              "    <tr>\n",
              "      <th>4</th>\n",
              "      <td>0.775343</td>\n",
              "      <td>0.217922</td>\n",
              "    </tr>\n",
              "    <tr>\n",
              "      <th>...</th>\n",
              "      <td>...</td>\n",
              "      <td>...</td>\n",
              "    </tr>\n",
              "    <tr>\n",
              "      <th>82</th>\n",
              "      <td>0.871180</td>\n",
              "      <td>0.113485</td>\n",
              "    </tr>\n",
              "    <tr>\n",
              "      <th>83</th>\n",
              "      <td>0.506821</td>\n",
              "      <td>0.552549</td>\n",
              "    </tr>\n",
              "    <tr>\n",
              "      <th>84</th>\n",
              "      <td>0.071231</td>\n",
              "      <td>0.610045</td>\n",
              "    </tr>\n",
              "    <tr>\n",
              "      <th>85</th>\n",
              "      <td>0.686203</td>\n",
              "      <td>0.231877</td>\n",
              "    </tr>\n",
              "    <tr>\n",
              "      <th>86</th>\n",
              "      <td>0.775153</td>\n",
              "      <td>0.533161</td>\n",
              "    </tr>\n",
              "  </tbody>\n",
              "</table>\n",
              "<p>87 rows × 2 columns</p>\n",
              "</div>"
            ],
            "text/plain": [
              "         one       two\n",
              "0   0.227680  0.858204\n",
              "1   0.979188  0.077151\n",
              "2   0.504577  0.553114\n",
              "3   0.058132  0.528098\n",
              "4   0.775343  0.217922\n",
              "..       ...       ...\n",
              "82  0.871180  0.113485\n",
              "83  0.506821  0.552549\n",
              "84  0.071231  0.610045\n",
              "85  0.686203  0.231877\n",
              "86  0.775153  0.533161\n",
              "\n",
              "[87 rows x 2 columns]"
            ]
          },
          "metadata": {},
          "execution_count": 6
        }
      ],
      "metadata": {
        "colab": {
          "base_uri": "https://localhost:8080/",
          "height": 417
        },
        "id": "dxMux1yhRDMR",
        "outputId": "810b5340-729a-4140-f134-7c6dc0939f6c"
      }
    },
    {
      "cell_type": "markdown",
      "source": [
        ">__Implementation of k-means:__\n",
        "\n",
        "1. __Handle data__: Cleaning the file, normalising the parameters, and assigning numeric values to non-numeric properties are all examples of how to handle data. Data from the file is read and separated for cross validation.\n",
        "2. __Locate the Initial Centroids__: Randomly select k centroids.\n",
        "3. Finding the distance between each of the datapoints and each of the centroids (distance calculation). This statistic is used to determine which cluster the points are part of.\n",
        "4. __The centroids must be recalculated__: Find the new centroid values.\n",
        "5. __Put an end to the iteration__: When the difference between the old and new centroids is minimal, the algorithm should be stopped."
      ],
      "metadata": {
        "id": "K8IRbC1kVIbB"
      }
    },
    {
      "cell_type": "code",
      "execution_count": 7,
      "source": [
        "class K_Means:\n",
        "\tdef __init__(self, k =3, tolerance = 0.0001, max_iterations = 500):\n",
        "\t\tself.k = k\n",
        "\t\tself.tolerance = tolerance\n",
        "\t\tself.max_iterations = max_iterations\n",
        "\n",
        "\tdef fit(self, data):\n",
        "\n",
        "\t\tself.centroids = {}\n",
        "\n",
        "\t\t#initialize the centroids\n",
        "\t\tfor i in range(self.k):\n",
        "\t\t\tself.centroids[i] = data[i]\n",
        "\n",
        "\t\t#begin iterations\n",
        "\t\tfor i in range(self.max_iterations):\n",
        "\t\t\tself.classes = {}\n",
        "\t\t\tfor i in range(self.k):\n",
        "\t\t\t\tself.classes[i] = []\n",
        "\n",
        "\t\t\t#find the distance between the point and cluster; choose the nearest centroid\n",
        "\t\t\tfor features in data:\n",
        "\t\t\t\tdistances = [np.linalg.norm(features - self.centroids[centroid]) for centroid in self.centroids]\n",
        "\t\t\t\tclassification = distances.index(min(distances))\n",
        "\t\t\t\tself.classes[classification].append(features)\n",
        "\n",
        "\t\t\tprevious = dict(self.centroids)\n",
        "\n",
        "\t\t\t#average the cluster datapoints to re-calculate the centroids\n",
        "\t\t\tfor classification in self.classes:\n",
        "\t\t\t\tself.centroids[classification] = np.average(self.classes[classification], axis = 0)\n",
        "\n",
        "\t\t\tisOptimal = True\n",
        "\n",
        "\t\t\tfor centroid in self.centroids:\n",
        "\n",
        "\t\t\t\toriginal_centroid = previous[centroid]\n",
        "\t\t\t\tcurr = self.centroids[centroid]\n",
        "\n",
        "\t\t\t\tif np.sum((curr - original_centroid)/original_centroid * 100.0) > self.tolerance:\n",
        "\t\t\t\t\tisOptimal = False\n",
        "\n",
        "\t\t\t# if the centroids don't change their positions much(more than our tolerance) break out of the main loop if the results are optimal, \n",
        "\t\t\tif isOptimal:\n",
        "\t\t\t\tbreak\n",
        "\n",
        "\tdef pred(self, data):\n",
        "\t\tdistances = [np.linalg.norm(data - self.centroids[centroid]) for centroid in self.centroids]\n",
        "\t\tclassification = distances.index(min(distances))\n",
        "\t\treturn classification\n"
      ],
      "outputs": [],
      "metadata": {
        "id": "d2VXIsznNMAS"
      }
    },
    {
      "cell_type": "markdown",
      "source": [
        "Let's visualise the datasets now that we've finished clustering to see where these clusters are located. To show the dataset, I'll use the python matplotlib tool, then colour the different clusters for visual identification."
      ],
      "metadata": {
        "id": "8AuHeaEAWb8T"
      }
    },
    {
      "cell_type": "code",
      "execution_count": 8,
      "source": [
        "#Lets import matplotlib for visualization\n",
        "\n",
        "import matplotlib.pyplot as plt\n",
        "def main():\n",
        "\t\n",
        "\tdf = pd.read_csv(r\"ipl.csv\")\n",
        "\tdf = df[['one', 'two']]\n",
        "\tdataset = df.astype(float).values.tolist()\n",
        "\n",
        "\tX = df.values #returns a numpy array\n",
        "\t\n",
        "\tkm = K_Means(3)\n",
        "\tkm.fit(X)\n",
        "\n",
        "\t# Plotting starts here\n",
        "\tcolors = 10*[\"r\", \"g\", \"c\", \"b\", \"k\"]\n",
        "\n",
        "\tfor centroid in km.centroids:\n",
        "\t\tplt.scatter(km.centroids[centroid][0], km.centroids[centroid][1], s = 130, marker = \"x\")\n",
        "\n",
        "\tfor classification in km.classes:\n",
        "\t\tcolor = colors[classification]\n",
        "\t\tfor features in km.classes[classification]:\n",
        "\t\t\tplt.scatter(features[0], features[1], color = color,s = 30)\n",
        "\t\n",
        "\tplt.show()"
      ],
      "outputs": [],
      "metadata": {
        "id": "FarpILtMNn9a"
      }
    },
    {
      "cell_type": "code",
      "execution_count": 9,
      "source": [
        "if __name__ == \"__main__\":\n",
        "\tmain()"
      ],
      "outputs": [
        {
          "output_type": "display_data",
          "data": {
            "image/png": "[encoded data removed]",
            "text/plain": [
              "<Figure size 432x288 with 1 Axes>"
            ]
          },
          "metadata": {
            "needs_background": "light"
          }
        }
      ],
      "metadata": {
        "colab": {
          "base_uri": "https://localhost:8080/",
          "height": 265
        },
        "id": "hQ7IQhVfNo8q",
        "outputId": "d3c68e47-511c-412a-b9f7-b2e74e656c52"
      }
    },
    {
      "cell_type": "markdown",
      "source": [
        "Here is our scatter plot, which has been clustered using the K Means clustering technique. `Batsmen` (Red), `Bowlers` (Green), and `Allrounders` (Blue) are the three clusters. And the cross mark being the centroids."
      ],
      "metadata": {
        "id": "w0tf0H4AWkSy"
      }
    }
  ]
}